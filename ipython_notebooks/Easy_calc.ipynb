{
 "cells": [
  {
   "cell_type": "code",
   "execution_count": 3,
   "metadata": {},
   "outputs": [
    {
     "name": "stdout",
     "output_type": "stream",
     "text": [
      "Please, enter first number:\n",
      "9\n",
      "Please, enter second number:\n",
      "3\n",
      "Please, enter type of operation: +, -, *, /, mod, pow, div\n",
      "/\n",
      "3.0\n"
     ]
    }
   ],
   "source": [
    "\n",
    "# calculations multiply\n",
    "# 1st num\n",
    "print('Please, enter first number:')\n",
    "a = float(input())\n",
    "\n",
    "#2nd num\n",
    "print('Please, enter second number:')\n",
    "b = float(input())\n",
    "\n",
    "#operand\n",
    "print('Please, enter type of operation: +, -, *, /, mod, pow, div')\n",
    "o = input()\n",
    "\n",
    "#if (b == 0):\n",
    "#\tprint(\"Деление на 0!\")\n",
    "if (o==\"+\"):\n",
    "\tprint(float(a + b))\n",
    "elif (o==\"-\"):\n",
    "\tprint(float(a - b))\n",
    "elif (o==\"/\") and (b!=0.0):\n",
    "\tprint(float(a / b))\n",
    "elif (o==\"/\") and (b==0.0):\n",
    "\tprint(\"Деление на 0!\")\n",
    "elif (o==\"*\"):\n",
    "\tprint(float(a * b))\n",
    "elif (o==\"mod\") and (b!=0.0):\n",
    "\tprint(float(a % b))\n",
    "elif (o==\"mod\") and (b==0.0):\n",
    "\tprint(\"Деление на 0!\")\n",
    "elif (o==\"pow\"):\n",
    "\tprint(float(a ** b))\n",
    "elif (o==\"div\") and (b!=0.0):\n",
    "\tprint(float(a // b))\n",
    "elif (o==\"div\") and (b==0.0):\n",
    "\tprint(\"Деление на 0!\")\n",
    "    "
   ]
  },
  {
   "cell_type": "code",
   "execution_count": null,
   "metadata": {},
   "outputs": [],
   "source": []
  }
 ],
 "metadata": {
  "kernelspec": {
   "display_name": "Python 3",
   "language": "python",
   "name": "python3"
  },
  "language_info": {
   "codemirror_mode": {
    "name": "ipython",
    "version": 3
   },
   "file_extension": ".py",
   "mimetype": "text/x-python",
   "name": "python",
   "nbconvert_exporter": "python",
   "pygments_lexer": "ipython3",
   "version": "3.8.3"
  }
 },
 "nbformat": 4,
 "nbformat_minor": 4
}
